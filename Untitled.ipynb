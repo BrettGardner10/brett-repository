{
 "cells": [
  {
   "cell_type": "code",
   "execution_count": null,
   "metadata": {},
   "outputs": [],
   "source": [
    "import pandas as pd\n",
    "import numpy as np\n",
    "import requests\n",
    "import os\n",
    "import json"
   ]
  },
  {
   "cell_type": "code",
   "execution_count": null,
   "metadata": {},
   "outputs": [],
   "source": [
    "#create dataframe by reading csv\n",
    "df = pd.read_csv(\"twitter-archive-enhanced.csv\")\n",
    "df.head(2)"
   ]
  },
  {
   "cell_type": "code",
   "execution_count": null,
   "metadata": {},
   "outputs": [],
   "source": [
    "folder_name = 'image_predictions'\n",
    "if not os.path.exists(folder_name):\n",
    "    os.makedirs(folder_name)\n",
    "\n",
    "url = 'https://d17h27t6h515a5.cloudfront.net/topher/2017/August/599fd2ad_image-predictions/image-predictions.tsv'\n",
    "response = requests.get(url)\n",
    "print(response)\n",
    "\n",
    "with open(os.path.join(folder_name,\n",
    "                      url.split('/')[-1]), mode='wb') as file:\n",
    "    file.write(response.content)"
   ]
  },
  {
   "cell_type": "code",
   "execution_count": null,
   "metadata": {},
   "outputs": [],
   "source": [
    "#open tsv file\n",
    "images = pd.read_table('image_predictions/image-predictions.tsv', sep='\\t')\n",
    "images.head(2)"
   ]
  },
  {
   "cell_type": "code",
   "execution_count": null,
   "metadata": {},
   "outputs": [],
   "source": [
    "#creating an API object so we can gather Twitter data\n",
    "\n",
    "import tweepy\n",
    "\n",
    "consumer_key = 'Iorx4UF5DfzdCXoDNI3LA4zKX'\n",
    "consumer_secret = 'gFELLACIIcPti3OxfHvF9SjfQYRkYgZE0Pr0zOBDQxexCHPvqe'\n",
    "access_token = '2168888629-o9AyvMXXBFRPNnDIhTDjNQnAXQZI5esPBsX6IiD'\n",
    "access_secret = 'iln7CAWqMxYGPZzBRlItDWlCVBosRXkVvmQqwJNhpQ0ZG'\n",
    "\n",
    "auth = tweepy.OAuthHandler(consumer_key, consumer_secret)\n",
    "auth.set_access_token(access_token, access_secret)\n",
    "\n",
    "api = tweepy.API(auth_handler=auth, \n",
    "                 wait_on_rate_limit=True, \n",
    "                 wait_on_rate_limit_notify=True)"
   ]
  },
  {
   "cell_type": "code",
   "execution_count": null,
   "metadata": {},
   "outputs": [],
   "source": [
    "#is there a difference between brackets [] {}\n",
    "tweet_data = {}\n",
    "for tweet in list(df.tweet_id):\n",
    "    try:\n",
    "        tweet_status = api.get_status(tweet,\n",
    "                                      wait_on_rate_limit=True, \n",
    "                                      wait_on_rate_limit_notify=True)\n",
    "        tweet_data[str(tweet)] = tweet_status._json\n",
    "    except: \n",
    "        print(\"Error for: \" + str(tweet))"
   ]
  },
  {
   "cell_type": "code",
   "execution_count": null,
   "metadata": {},
   "outputs": [],
   "source": [
    "with open('tweet_json.txt', 'w') as outfile:  \n",
    "    json.dump(tweet_data, outfile, \n",
    "              sort_keys = True,\n",
    "              indent=4,\n",
    "              ensure_ascii = True)"
   ]
  },
  {
   "cell_type": "code",
   "execution_count": null,
   "metadata": {},
   "outputs": [],
   "source": [
    "tweet_df = pd.read_json('tweet_json.txt',orient='index')\n",
    "tweet_df.head(2)"
   ]
  }
 ],
 "metadata": {
  "kernelspec": {
   "display_name": "Python 3",
   "language": "python",
   "name": "python3"
  },
  "language_info": {
   "codemirror_mode": {
    "name": "ipython",
    "version": 3
   },
   "file_extension": ".py",
   "mimetype": "text/x-python",
   "name": "python",
   "nbconvert_exporter": "python",
   "pygments_lexer": "ipython3",
   "version": "3.7.4"
  }
 },
 "nbformat": 4,
 "nbformat_minor": 2
}
